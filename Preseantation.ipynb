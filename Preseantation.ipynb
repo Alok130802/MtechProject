{
  "nbformat": 4,
  "nbformat_minor": 0,
  "metadata": {
    "colab": {
      "name": "Preseantation.ipynb",
      "provenance": [],
      "collapsed_sections": [],
      "machine_shape": "hm",
      "authorship_tag": "ABX9TyMDs850pSfXt19j1G9RG4dm",
      "include_colab_link": true
    },
    "kernelspec": {
      "name": "python3",
      "display_name": "Python 3"
    },
    "accelerator": "GPU"
  },
  "cells": [
    {
      "cell_type": "markdown",
      "metadata": {
        "id": "view-in-github",
        "colab_type": "text"
      },
      "source": [
        "<a href=\"https://colab.research.google.com/github/Alok130802/MtechProject/blob/master/Preseantation.ipynb\" target=\"_parent\"><img src=\"https://colab.research.google.com/assets/colab-badge.svg\" alt=\"Open In Colab\"/></a>"
      ]
    },
    {
      "cell_type": "code",
      "metadata": {
        "id": "MdgjQb2mYy5C",
        "colab_type": "code",
        "outputId": "521c2d32-cbac-4ead-db22-65f9ca516ec5",
        "colab": {
          "base_uri": "https://localhost:8080/",
          "height": 51
        }
      },
      "source": [
        "# %tensorflow_version 2.x\n",
        "# import tensorflow\n",
        "# device_name = tensorflow.test.gpu_device_name()\n",
        "# if device_name != '/device:GPU:0':\n",
        "#   raise  SystemError('gpu device not found')\n",
        "# print('Found GPU at :{}'.format(device_name))"
      ],
      "execution_count": 0,
      "outputs": [
        {
          "output_type": "stream",
          "text": [
            "TensorFlow 2.x selected.\n",
            "Found GPU at :/device:GPU:0\n"
          ],
          "name": "stdout"
        }
      ]
    },
    {
      "cell_type": "code",
      "metadata": {
        "id": "ucoWhKtlTd2O",
        "colab_type": "code",
        "colab": {}
      },
      "source": [
        "# !pip install tensorflow-gpu==2.0"
      ],
      "execution_count": 0,
      "outputs": []
    },
    {
      "cell_type": "code",
      "metadata": {
        "id": "brlLq7oxQAAL",
        "colab_type": "code",
        "colab": {}
      },
      "source": [
        "\n",
        "import pandas as pd\n",
        "import numpy as np\n",
        "from pathlib import Path\n",
        "import math\n",
        "import networkx as nx\n",
        "from typing import Tuple, List\n",
        "from math import log\n",
        "from tensorflow.python import keras\n",
        "from tensorflow.python.keras import layers\n",
        "from tensorflow.python.keras import models\n",
        "from tensorflow.python.keras import utils\n",
        "import matplotlib.pyplot as plt\n"
      ],
      "execution_count": 0,
      "outputs": []
    },
    {
      "cell_type": "code",
      "metadata": {
        "id": "2ubwQkEhQPL1",
        "colab_type": "code",
        "colab": {}
      },
      "source": [
        "audcad = pd.read_csv(\"audcad.csv\",parse_dates=True,index_col=\"Gmt time\")\n",
        "audjpy = pd.read_csv(\"audjpy.csv\",parse_dates=True,index_col=\"Gmt time\")\n",
        "cadjpy = pd.read_csv(\"cadjpy.csv\",parse_dates=True,index_col=\"Gmt time\")"
      ],
      "execution_count": 0,
      "outputs": []
    },
    {
      "cell_type": "code",
      "metadata": {
        "id": "79aZJ_pnQYX0",
        "colab_type": "code",
        "colab": {}
      },
      "source": [
        "audcad = audcad[[\"Ask\",\"Bid\"]]\n",
        "audjpy = audjpy[[\"Ask\",\"Bid\"]]\n",
        "cadjpy = cadjpy[[\"Ask\",\"Bid\"]]"
      ],
      "execution_count": 0,
      "outputs": []
    },
    {
      "cell_type": "code",
      "metadata": {
        "id": "-_s60VC7QkIm",
        "colab_type": "code",
        "outputId": "da7d01c8-50a0-4676-9392-00013f27cd9e",
        "colab": {
          "base_uri": "https://localhost:8080/",
          "height": 374
        }
      },
      "source": [
        "print(audcad.head())\n",
        "print(audjpy.head())\n",
        "print(cadjpy.head())\n"
      ],
      "execution_count": 0,
      "outputs": [
        {
          "output_type": "stream",
          "text": [
            "                             Ask      Bid\n",
            "Gmt time                                 \n",
            "2019-01-10 00:00:00.040  0.89406  0.89385\n",
            "2019-01-10 00:00:00.192  0.89406  0.89387\n",
            "2019-01-10 00:00:00.293  0.89405  0.89387\n",
            "2019-01-10 00:00:01.139  0.89406  0.89387\n",
            "2019-01-10 00:00:01.616  0.89408  0.89387\n",
            "                            Ask     Bid\n",
            "Gmt time                               \n",
            "2019-01-10 00:00:00.092  72.952  72.944\n",
            "2019-01-10 00:00:00.193  72.951  72.944\n",
            "2019-01-10 00:00:00.294  72.951  72.944\n",
            "2019-01-10 00:00:00.413  72.950  72.943\n",
            "2019-01-10 00:00:00.521  72.951  72.944\n",
            "                            Ask     Bid\n",
            "Gmt time                               \n",
            "2019-01-10 00:00:00.219  81.606  81.594\n",
            "2019-01-10 00:00:00.320  81.605  81.594\n",
            "2019-01-10 00:00:00.420  81.604  81.592\n",
            "2019-01-10 00:00:00.572  81.605  81.594\n",
            "2019-01-10 00:00:00.677  81.606  81.594\n"
          ],
          "name": "stdout"
        }
      ]
    },
    {
      "cell_type": "code",
      "metadata": {
        "id": "FpRI620PQnc0",
        "colab_type": "code",
        "colab": {}
      },
      "source": [
        "audcad = audcad.resample(\"1s\").mean()\n",
        "audjpy = audjpy.resample(\"1s\").mean()\n",
        "cadjpy = cadjpy.resample(\"1s\").mean()"
      ],
      "execution_count": 0,
      "outputs": []
    },
    {
      "cell_type": "code",
      "metadata": {
        "id": "lGJFoJL_RoCN",
        "colab_type": "code",
        "colab": {}
      },
      "source": [
        "audcad.dropna(inplace=True)\n",
        "audjpy.dropna(inplace=True)\n",
        "cadjpy.dropna(inplace=True)"
      ],
      "execution_count": 0,
      "outputs": []
    },
    {
      "cell_type": "code",
      "metadata": {
        "id": "pIOXx_xen8mR",
        "colab_type": "code",
        "outputId": "38b2c163-d7c5-4d36-b406-49f3d13e5a57",
        "colab": {
          "base_uri": "https://localhost:8080/",
          "height": 374
        }
      },
      "source": [
        "print(audcad.head())\n",
        "print(audjpy.head())\n",
        "print(cadjpy.head())"
      ],
      "execution_count": 0,
      "outputs": [
        {
          "output_type": "stream",
          "text": [
            "                          Ask       Bid\n",
            "Gmt time                               \n",
            "2019-01-10 00:00:00  0.894057  0.893863\n",
            "2019-01-10 00:00:01  0.894070  0.893870\n",
            "2019-01-10 00:00:02  0.894070  0.893880\n",
            "2019-01-10 00:00:03  0.894060  0.893870\n",
            "2019-01-10 00:00:04  0.894070  0.893890\n",
            "                         Ask        Bid\n",
            "Gmt time                               \n",
            "2019-01-10 00:00:00  72.9510  72.943571\n",
            "2019-01-10 00:00:01  72.9536  72.945600\n",
            "2019-01-10 00:00:02  72.9540  72.947500\n",
            "2019-01-10 00:00:03  72.9530  72.946000\n",
            "2019-01-10 00:00:04  72.9540  72.949000\n",
            "                           Ask        Bid\n",
            "Gmt time                                 \n",
            "2019-01-10 00:00:00  81.604857  81.593571\n",
            "2019-01-10 00:00:01  81.606857  81.595571\n",
            "2019-01-10 00:00:02  81.608800  81.596200\n",
            "2019-01-10 00:00:03  81.609500  81.597000\n",
            "2019-01-10 00:00:04  81.608333  81.596333\n"
          ],
          "name": "stdout"
        }
      ]
    },
    {
      "cell_type": "code",
      "metadata": {
        "id": "o_rOr_ynSvgI",
        "colab_type": "code",
        "colab": {}
      },
      "source": [
        "audcad =audcad.values\n",
        "audjpy = audjpy.values\n",
        "cadjpy = cadjpy.values"
      ],
      "execution_count": 0,
      "outputs": []
    },
    {
      "cell_type": "code",
      "metadata": {
        "id": "FweePxBMgMFF",
        "colab_type": "code",
        "colab": {}
      },
      "source": [
        "audjpy = audjpy /100\n",
        "cadjpy = cadjpy /100"
      ],
      "execution_count": 0,
      "outputs": []
    },
    {
      "cell_type": "code",
      "metadata": {
        "id": "9ZW7QKdoVmKT",
        "colab_type": "code",
        "outputId": "d2911598-6874-4048-811a-9e3f247ed67a",
        "colab": {
          "base_uri": "https://localhost:8080/",
          "height": 34
        }
      },
      "source": [
        "audjpy.shape"
      ],
      "execution_count": 0,
      "outputs": [
        {
          "output_type": "execute_result",
          "data": {
            "text/plain": [
              "(36519, 2)"
            ]
          },
          "metadata": {
            "tags": []
          },
          "execution_count": 11
        }
      ]
    },
    {
      "cell_type": "code",
      "metadata": {
        "id": "-P3eq5AUmGjz",
        "colab_type": "code",
        "colab": {}
      },
      "source": [
        "n_timestamp = 3\n",
        "n_feature = 2\n",
        "n_future = 1\n",
        "epochs= 50\n",
        "n_unit = 128\n"
      ],
      "execution_count": 0,
      "outputs": []
    },
    {
      "cell_type": "code",
      "metadata": {
        "id": "G0SDn979S7UP",
        "colab_type": "code",
        "outputId": "abd93389-8b2a-4706-87dc-f8f335b76ddb",
        "colab": {
          "base_uri": "https://localhost:8080/",
          "height": 34
        }
      },
      "source": [
        "# create data \n",
        "def transform_data(data,n_timestamp,n_future):\n",
        "  x = []\n",
        "  y = []\n",
        "  for i in range(len(data) - (n_timestamp+n_future)):\n",
        "    k = data[i:i+n_timestamp].tolist()\n",
        "    a = data[i+n_timestamp:i+n_timestamp+n_future].tolist()\n",
        "    \n",
        "    x.append(k)\n",
        "    y.append(a)\n",
        "    # y.append(np.transpose(a))\n",
        "  return np.array(x),np.array(y)\n",
        "audcad_x,audcad_y = transform_data(audcad,n_timestamp,n_future)\n",
        "print(audcad_x.shape,audcad_y.shape)\n",
        "\n",
        "\n",
        "\n",
        "\n",
        "\n"
      ],
      "execution_count": 0,
      "outputs": [
        {
          "output_type": "stream",
          "text": [
            "(40676, 3, 2) (40676, 1, 2)\n"
          ],
          "name": "stdout"
        }
      ]
    },
    {
      "cell_type": "code",
      "metadata": {
        "id": "ZhpEdEaKrGkO",
        "colab_type": "code",
        "outputId": "31e232df-8d77-4dbc-d5fb-f948319271c1",
        "colab": {
          "base_uri": "https://localhost:8080/",
          "height": 68
        }
      },
      "source": [
        "audcad_x[0],audcad_y[0]"
      ],
      "execution_count": 0,
      "outputs": [
        {
          "output_type": "execute_result",
          "data": {
            "text/plain": [
              "(array([[0.89405667, 0.89386333],\n",
              "        [0.89407   , 0.89387   ],\n",
              "        [0.89407   , 0.89388   ]]), array([[0.89406, 0.89387]]))"
            ]
          },
          "metadata": {
            "tags": []
          },
          "execution_count": 14
        }
      ]
    },
    {
      "cell_type": "code",
      "metadata": {
        "id": "GUX1Yup-jLec",
        "colab_type": "code",
        "outputId": "f8726e5d-a721-47d8-fb4f-719c9dc25f66",
        "colab": {
          "base_uri": "https://localhost:8080/",
          "height": 34
        }
      },
      "source": [
        "audcad_y.shape"
      ],
      "execution_count": 0,
      "outputs": [
        {
          "output_type": "execute_result",
          "data": {
            "text/plain": [
              "(40676, 1, 2)"
            ]
          },
          "metadata": {
            "tags": []
          },
          "execution_count": 15
        }
      ]
    },
    {
      "cell_type": "code",
      "metadata": {
        "id": "nvo3pw1kS8nl",
        "colab_type": "code",
        "colab": {}
      },
      "source": [
        "\n",
        "\n",
        "audcad_x,audcad_y = transform_data(audcad,n_timestamp,n_future)\n",
        "audjpy_x,audjpy_y = transform_data(audjpy,n_timestamp,n_future)\n",
        "cadjpy_x,cadjpy_y = transform_data(cadjpy,n_timestamp,n_future)\n",
        "# audcad_x = audcad_x.reshape(audcad_x.shape[0],audcad_x.shape[1],1)\n",
        "# audjpy_x = audjpy_x.reshape(audjpy_x.shape[0],audjpy_x.shape[1],1)\n",
        "# cadjpy_x = cadjpy_x.reshape(cadjpy_x.shape[0],cadjpy_x.shape[1],1)"
      ],
      "execution_count": 0,
      "outputs": []
    },
    {
      "cell_type": "code",
      "metadata": {
        "id": "XglevJzyWcwf",
        "colab_type": "code",
        "outputId": "c46290d4-3e38-44e0-aac8-3d0ffa4bc354",
        "colab": {
          "base_uri": "https://localhost:8080/",
          "height": 68
        }
      },
      "source": [
        "audcad_x[0],audcad_y[0]"
      ],
      "execution_count": 0,
      "outputs": [
        {
          "output_type": "execute_result",
          "data": {
            "text/plain": [
              "(array([[0.89405667, 0.89386333],\n",
              "        [0.89407   , 0.89387   ],\n",
              "        [0.89407   , 0.89388   ]]), array([[0.89406, 0.89387]]))"
            ]
          },
          "metadata": {
            "tags": []
          },
          "execution_count": 17
        }
      ]
    },
    {
      "cell_type": "code",
      "metadata": {
        "id": "A4_uJ9K8Wutb",
        "colab_type": "code",
        "colab": {}
      },
      "source": [
        "audcad_x_train = audcad_x[:40000]\n",
        "audcad_x_test = audcad_x[40000:]\n",
        "audcad_y_train= audcad_y[:40000]\n",
        "audcad_y_test = audcad_y[40000:]\n",
        "\n",
        "audjpy_x_train = audjpy_x[:30000]\n",
        "audjpy_x_test = audjpy_x[30000:]\n",
        "audjpy_y_train= audjpy_y[:30000]\n",
        "audjpy_y_test = audjpy_y[30000:]\n",
        "\n",
        "cadjpy_x_train = cadjpy_x[:40000]\n",
        "cadjpy_x_test = cadjpy_x[40000:]\n",
        "cadjpy_y_train= cadjpy_y[:40000]\n",
        "cadjpy_y_test = cadjpy_y[40000:]"
      ],
      "execution_count": 0,
      "outputs": []
    },
    {
      "cell_type": "code",
      "metadata": {
        "id": "D44Ec6wBLHiX",
        "colab_type": "code",
        "colab": {}
      },
      "source": [
        "audcad_y_train.shape\n",
        "start = np.array([[[0.1,0.1]]])\n",
        "audcad_y_train.shape,start.shape\n",
        "\n",
        "decoder_input = np.vstack([start,audcad_y_train])\n",
        "decoder_input = decoder_input[:-1]\n"
      ],
      "execution_count": 0,
      "outputs": []
    },
    {
      "cell_type": "code",
      "metadata": {
        "id": "jFPbq95uyVFi",
        "colab_type": "code",
        "outputId": "d8c10a5a-1a72-4edc-8bf8-3202421a400a",
        "colab": {
          "base_uri": "https://localhost:8080/",
          "height": 34
        }
      },
      "source": [
        "decoder_input.shape"
      ],
      "execution_count": 0,
      "outputs": [
        {
          "output_type": "execute_result",
          "data": {
            "text/plain": [
              "(40000, 1, 2)"
            ]
          },
          "metadata": {
            "tags": []
          },
          "execution_count": 20
        }
      ]
    },
    {
      "cell_type": "code",
      "metadata": {
        "id": "51--EAJTZXfb",
        "colab_type": "code",
        "colab": {}
      },
      "source": [
        " \n",
        "def create_model(n_input, n_output, n_units):\n",
        "\t# define training encoder\n",
        "\tencoder_inputs = layers.Input(shape=(n_timestamp,n_feature))\n",
        "\tencoder = layers.LSTM(n_units, return_state=True)\n",
        "\tencoder_outputs, state_h, state_c = encoder(encoder_inputs)\n",
        "\tencoder_states = [state_h, state_c]\n",
        "\t# define training decoder\n",
        "\tdecoder_inputs = layers.Input(shape=(n_future, n_feature))\n",
        "\tdecoder_lstm = layers.LSTM(n_units, return_sequences=True, return_state=True)\n",
        "\tdecoder_outputs, _, _ = decoder_lstm(decoder_inputs, initial_state=encoder_states)\n",
        "\tdecoder_dense = layers.Dense(n_output, activation='relu')\n",
        "\tdecoder_outputs = decoder_dense(decoder_outputs)\n",
        "\tmodel = models.Model([encoder_inputs, decoder_inputs], decoder_outputs)\n",
        "\t# define inference encoder\n",
        "\tencoder_model = models.Model(encoder_inputs, encoder_states)\n",
        "\t# define inference decoder\n",
        "\tdecoder_state_input_h = layers.Input(shape=(n_units,))\n",
        "\tdecoder_state_input_c = layers.Input(shape=(n_units,))\n",
        "\tdecoder_states_inputs = [decoder_state_input_h, decoder_state_input_c]\n",
        "\tdecoder_outputs, state_h, state_c = decoder_lstm(decoder_inputs, initial_state=decoder_states_inputs)\n",
        "\tdecoder_states = [state_h, state_c]\n",
        "\tdecoder_outputs = decoder_dense(decoder_outputs)\n",
        "\tdecoder_model = models.Model([decoder_inputs] + decoder_states_inputs, [decoder_outputs] + decoder_states)\n",
        "\t# return all models\n",
        "\treturn model, encoder_model, decoder_model\n",
        "\n"
      ],
      "execution_count": 0,
      "outputs": []
    },
    {
      "cell_type": "code",
      "metadata": {
        "id": "VHgholRAc5x3",
        "colab_type": "code",
        "outputId": "a656dfef-a238-46ba-a825-e832b4a354d0",
        "colab": {
          "base_uri": "https://localhost:8080/",
          "height": 51
        }
      },
      "source": [
        "print(audcad_x_train.shape)\n",
        "print(audcad_y_train.shape)\n",
        "model,encoder,decoder = create_model(n_timestamp,n_future,n_unit)\n",
        "\n"
      ],
      "execution_count": 0,
      "outputs": [
        {
          "output_type": "stream",
          "text": [
            "(40000, 3, 2)\n",
            "(40000, 1, 2)\n"
          ],
          "name": "stdout"
        }
      ]
    },
    {
      "cell_type": "code",
      "metadata": {
        "id": "riAY1t75oee2",
        "colab_type": "code",
        "outputId": "6440176a-6413-43d0-d7f2-9b624fba3a6b",
        "colab": {
          "base_uri": "https://localhost:8080/",
          "height": 369
        }
      },
      "source": [
        "keras.utils.plot_model(model)"
      ],
      "execution_count": 0,
      "outputs": [
        {
          "output_type": "execute_result",
          "data": {
            "image/png": "[encoded data removed]",
            "text/plain": [
              "<IPython.core.display.Image object>"
            ]
          },
          "metadata": {
            "tags": []
          },
          "execution_count": 23
        }
      ]
    },
    {
      "cell_type": "code",
      "metadata": {
        "id": "6RQQZO15pA6L",
        "colab_type": "code",
        "outputId": "98874933-3f78-4900-f99b-46a5d7e7ed1e",
        "colab": {
          "base_uri": "https://localhost:8080/",
          "height": 174
        }
      },
      "source": [
        "keras.utils.plot_model(encoder)"
      ],
      "execution_count": 0,
      "outputs": [
        {
          "output_type": "execute_result",
          "data": {
            "image/png": "[encoded data removed]",
            "text/plain": [
              "<IPython.core.display.Image object>"
            ]
          },
          "metadata": {
            "tags": []
          },
          "execution_count": 24
        }
      ]
    },
    {
      "cell_type": "code",
      "metadata": {
        "id": "byDK-ow_pKsa",
        "colab_type": "code",
        "outputId": "e449ed1e-0b13-42c2-d4b7-e54d2e73095b",
        "colab": {
          "base_uri": "https://localhost:8080/",
          "height": 272
        }
      },
      "source": [
        "keras.utils.plot_model(decoder)"
      ],
      "execution_count": 0,
      "outputs": [
        {
          "output_type": "execute_result",
          "data": {
            "image/png": "[encoded data removed]",
            "text/plain": [
              "<IPython.core.display.Image object>"
            ]
          },
          "metadata": {
            "tags": []
          },
          "execution_count": 25
        }
      ]
    },
    {
      "cell_type": "code",
      "metadata": {
        "id": "34jkFGOOovL1",
        "colab_type": "code",
        "outputId": "c4eb3bc8-cc12-48b5-8f67-097204a9b5ce",
        "colab": {
          "base_uri": "https://localhost:8080/",
          "height": 139
        }
      },
      "source": [
        "model.compile(optimizer=\"sgd\", loss=keras.losses.KLDivergence(), metrics=['mse'])\n",
        "model.fit([audcad_x_train,decoder_input],audcad_y_train,epochs=2,validation_split=0.2)\n"
      ],
      "execution_count": 0,
      "outputs": [
        {
          "output_type": "stream",
          "text": [
            "Train on 32000 samples, validate on 8000 samples\n",
            "Epoch 1/2\n",
            "32000/32000 [==============================] - 15s 467us/sample - loss: 28.4629 - mse: 0.7911 - val_loss: 28.3526 - val_mse: 0.7853\n",
            "Epoch 2/2\n",
            "32000/32000 [==============================] - 9s 281us/sample - loss: 28.4629 - mse: 0.7911 - val_loss: 28.3526 - val_mse: 0.7853\n"
          ],
          "name": "stdout"
        },
        {
          "output_type": "execute_result",
          "data": {
            "text/plain": [
              "<tensorflow.python.keras.callbacks.History at 0x7f8a70e32160>"
            ]
          },
          "metadata": {
            "tags": []
          },
          "execution_count": 26
        }
      ]
    },
    {
      "cell_type": "code",
      "metadata": {
        "id": "zZuzEnmkkWWq",
        "colab_type": "code",
        "colab": {}
      },
      "source": [
        "x_input = audcad_x_train[0]\n",
        "x_input = x_input.reshape(1,x_input.shape[0],x_input.shape[1])\n",
        "y_output = audcad_y_train[0]\n",
        "a = encoder.predict(x_input)"
      ],
      "execution_count": 0,
      "outputs": []
    },
    {
      "cell_type": "code",
      "metadata": {
        "id": "W26cf5YLqk-8",
        "colab_type": "code",
        "outputId": "d91f9a22-311a-4318-d99a-3c191f580d76",
        "colab": {
          "base_uri": "https://localhost:8080/",
          "height": 34
        }
      },
      "source": [
        "np.array(a).shape"
      ],
      "execution_count": 0,
      "outputs": [
        {
          "output_type": "execute_result",
          "data": {
            "text/plain": [
              "(2, 1, 128)"
            ]
          },
          "metadata": {
            "tags": []
          },
          "execution_count": 28
        }
      ]
    },
    {
      "cell_type": "code",
      "metadata": {
        "id": "yjH5MzgasdZ4",
        "colab_type": "code",
        "outputId": "76957367-6f0e-4a46-b8d6-cb9da758e86c",
        "colab": {
          "base_uri": "https://localhost:8080/",
          "height": 34
        }
      },
      "source": [
        "x = [[1,2,3,4],[3,4,5,6]]\n",
        "y = [3,4,5,6]\n",
        "x+y"
      ],
      "execution_count": 0,
      "outputs": [
        {
          "output_type": "execute_result",
          "data": {
            "text/plain": [
              "[[1, 2, 3, 4], [3, 4, 5, 6], 3, 4, 5, 6]"
            ]
          },
          "metadata": {
            "tags": []
          },
          "execution_count": 29
        }
      ]
    },
    {
      "cell_type": "code",
      "metadata": {
        "id": "bgp2jEKamY2y",
        "colab_type": "code",
        "outputId": "a540f2a9-448b-49c4-8da1-52660c30f5b9",
        "colab": {
          "base_uri": "https://localhost:8080/",
          "height": 248
        }
      },
      "source": [
        "output = []\n",
        "print(audcad_y_train[0].shape)\n",
        "st = audcad_x_train[0]\n",
        "print(a.shape)\n",
        "# st = st.reshape(2,1,1)\n",
        "\n",
        "yhat, h, c = decoder.predict([st]+a)\n",
        "\n",
        "output.append(yhat)\n",
        "print(yhat)\n",
        "\t\t# update state\n"
      ],
      "execution_count": 0,
      "outputs": [
        {
          "output_type": "stream",
          "text": [
            "(1, 2)\n"
          ],
          "name": "stdout"
        },
        {
          "output_type": "error",
          "ename": "AttributeError",
          "evalue": "ignored",
          "traceback": [
            "\u001b[0;31m---------------------------------------------------------------------------\u001b[0m",
            "\u001b[0;31mAttributeError\u001b[0m                            Traceback (most recent call last)",
            "\u001b[0;32m<ipython-input-30-11dbb11bc4d6>\u001b[0m in \u001b[0;36m<module>\u001b[0;34m()\u001b[0m\n\u001b[1;32m      2\u001b[0m \u001b[0mprint\u001b[0m\u001b[0;34m(\u001b[0m\u001b[0maudcad_y_train\u001b[0m\u001b[0;34m[\u001b[0m\u001b[0;36m0\u001b[0m\u001b[0;34m]\u001b[0m\u001b[0;34m.\u001b[0m\u001b[0mshape\u001b[0m\u001b[0;34m)\u001b[0m\u001b[0;34m\u001b[0m\u001b[0;34m\u001b[0m\u001b[0m\n\u001b[1;32m      3\u001b[0m \u001b[0mst\u001b[0m \u001b[0;34m=\u001b[0m \u001b[0maudcad_x_train\u001b[0m\u001b[0;34m[\u001b[0m\u001b[0;36m0\u001b[0m\u001b[0;34m]\u001b[0m\u001b[0;34m\u001b[0m\u001b[0;34m\u001b[0m\u001b[0m\n\u001b[0;32m----> 4\u001b[0;31m \u001b[0mprint\u001b[0m\u001b[0;34m(\u001b[0m\u001b[0ma\u001b[0m\u001b[0;34m.\u001b[0m\u001b[0mshape\u001b[0m\u001b[0;34m)\u001b[0m\u001b[0;34m\u001b[0m\u001b[0;34m\u001b[0m\u001b[0m\n\u001b[0m\u001b[1;32m      5\u001b[0m \u001b[0;31m# st = st.reshape(2,1,1)\u001b[0m\u001b[0;34m\u001b[0m\u001b[0;34m\u001b[0m\u001b[0;34m\u001b[0m\u001b[0m\n\u001b[1;32m      6\u001b[0m \u001b[0;34m\u001b[0m\u001b[0m\n",
            "\u001b[0;31mAttributeError\u001b[0m: 'list' object has no attribute 'shape'"
          ]
        }
      ]
    },
    {
      "cell_type": "code",
      "metadata": {
        "id": "V8wtNl3Ua6C8",
        "colab_type": "code",
        "colab": {}
      },
      "source": [
        "def plot_train(history,epochs):\n",
        "  output = history.history\n",
        "  x_axis = np.array(range(5,epochs))\n",
        "  loss= output[\"loss\"]\n",
        "  val_loss = output[\"val_loss\"]\n",
        "  plt.plot(x_axis,loss[5:])\n",
        "  plt.plot(x_axis,val_loss[5:])\n",
        "  plt.xlabel(\"epochs\")\n",
        "  plt.ylabel(\"mse loss\")\n",
        "  plt.show()\n",
        "  \n"
      ],
      "execution_count": 0,
      "outputs": []
    },
    {
      "cell_type": "code",
      "metadata": {
        "id": "5BXqT2fKTwdp",
        "colab_type": "code",
        "colab": {}
      },
      "source": [
        "def plot_predicted(model,x_test,y_test):\n",
        "  plt.clf()\n",
        "  predicted = model.predict(x_test)\n",
        "  plt.plot(predicted)\n",
        "  plt.plot(y_test)\n",
        "  plt.show()"
      ],
      "execution_count": 0,
      "outputs": []
    },
    {
      "cell_type": "code",
      "metadata": {
        "id": "3oMiaOZINksQ",
        "colab_type": "code",
        "colab": {}
      },
      "source": [
        "print(audcad_x_train.shape)\n",
        "print(audcad_y_train.shape)\n",
        "model,encoder,decoder = create_model(n_timestamp,n_future,n_unit)\n",
        "model.compile(optimizer='adam', loss='mse', metrics=['accuracy'])\n",
        "model.fit(audcad_x,audcad_y,epochs=1,validation_split=0.2)\n",
        "\n",
        "# audcad_model,audcad_history = create_model(audcad_x_train,audcad_y_train,\"audcad.h5\")\n",
        "# plot_train(audcad_history,epochs)\n",
        "# plot_predicted(audcad_model,audcad_x_test,audcad_y_test)\n",
        "\n"
      ],
      "execution_count": 0,
      "outputs": []
    },
    {
      "cell_type": "code",
      "metadata": {
        "id": "dZ7rb1O2cE8V",
        "colab_type": "code",
        "colab": {}
      },
      "source": [
        "audjpy_model,audjpy_history = create_model(audjpy_x_train,audjpy_y_train,\"audjpy.h5\")\n",
        "plot_train(audjpy_history,epochs)\n",
        "plot_predicted(audjpy_model,audjpy_x_test,audjpy_y_test)\n"
      ],
      "execution_count": 0,
      "outputs": []
    },
    {
      "cell_type": "code",
      "metadata": {
        "id": "yEOJsdXqOO7m",
        "colab_type": "code",
        "colab": {}
      },
      "source": [
        "\n",
        "cadjpy_model,cadjpy_history = create_model(cadjpy_x_train,cadjpy_y_train,\"cadjpy.h5\")\n",
        "plot_train(cadjpy_history,epochs)\n",
        "plot_predicted(cadjpy_model,cadjpy_x_test,cadjpy_y_test)\n",
        "\n"
      ],
      "execution_count": 0,
      "outputs": []
    },
    {
      "cell_type": "code",
      "metadata": {
        "id": "tba_INx7enNJ",
        "colab_type": "code",
        "colab": {}
      },
      "source": [
        "def prediction(model,time_forword_steps,startpoint):\n",
        "  start = []\n",
        "  predicted = list()\n",
        "  for i in startpoint[0]:\n",
        "    start.append(i)\n",
        "  for i in range(10):\n",
        "    input_data = np.array(start) \n",
        "    input_data = input_data.reshape(1,input_data.shape[0],input_data.shape[1])\n",
        "    pred = audcad_model.predict(input_data)\n",
        "    predicted.append(pred[0])\n",
        "    start.pop(0)\n",
        "    start.append(pred)\n",
        "  y_real = audcad_y_test[:10]\n",
        "  plt.plot(y_real)\n",
        "  plt.plot(predicted)\n",
        "  plt.show()\n",
        "\n",
        "  \n"
      ],
      "execution_count": 0,
      "outputs": []
    },
    {
      "cell_type": "code",
      "metadata": {
        "id": "wr02Bsr5PMzY",
        "colab_type": "code",
        "colab": {}
      },
      "source": [
        "\n"
      ],
      "execution_count": 0,
      "outputs": []
    },
    {
      "cell_type": "code",
      "metadata": {
        "id": "d-8-NTP8Wq9z",
        "colab_type": "code",
        "colab": {}
      },
      "source": [
        ""
      ],
      "execution_count": 0,
      "outputs": []
    },
    {
      "cell_type": "code",
      "metadata": {
        "id": "0JT6i-tBcTQc",
        "colab_type": "code",
        "colab": {}
      },
      "source": [
        "# Calculate arbitrage\n"
      ],
      "execution_count": 0,
      "outputs": []
    },
    {
      "cell_type": "code",
      "metadata": {
        "id": "iWzNYSYOTBU4",
        "colab_type": "code",
        "colab": {}
      },
      "source": [
        "def negate_logarithm_convertor(graph: Tuple[Tuple[float]]) -> List[List[float]]:\n",
        "    ''' log of each rate in graph and negate it'''\n",
        "    result = [[-log(edge) for edge in row] for row in graph]\n",
        "    return result \n",
        "    "
      ],
      "execution_count": 0,
      "outputs": []
    },
    {
      "cell_type": "code",
      "metadata": {
        "id": "TOVMeWNbTC5_",
        "colab_type": "code",
        "colab": {}
      },
      "source": [
        "    ''' Calculates arbitrage situations and prints out the details of this calculations'''\n",
        "\n",
        "    trans_graph = negate_logarithm_convertor(rates_matrix)\n",
        "\n",
        "    # Pick any source vertex -- we can run Bellman-Ford from any vertex and get the right result\n",
        "\n",
        "    source = 0\n",
        "    n = len(trans_graph)\n",
        "    min_dist = [float('inf')] * n\n",
        "\n",
        "    pre = [-1] * n\n",
        "    \n",
        "    min_dist[source] = source\n",
        "\n",
        "    # 'Relax edges |V-1| times'\n",
        "    for _ in range(n-1):\n",
        "        for source_curr in range(n):\n",
        "            for dest_curr in range(n):\n",
        "                if min_dist[dest_curr] > min_dist[source_curr] + trans_graph[source_curr][dest_curr]:\n",
        "                    min_dist[dest_curr] = min_dist[source_curr] + trans_graph[source_curr][dest_curr]\n",
        "                    pre[dest_curr] = source_curr\n",
        "\n",
        "    # if we can still relax edges, then we have a negative cycle\n",
        "    for source_curr in range(n):\n",
        "        for dest_curr in range(n):\n",
        "            if min_dist[dest_curr] > min_dist[source_curr] + trans_graph[source_curr][dest_curr]:\n",
        "                # negative cycle exists, and use the predecessor chain to print the cycle\n",
        "                print_cycle = [dest_curr, source_curr]\n",
        "                # Start from the source and go backwards until you see the source vertex again or any vertex that already exists in print_cycle array\n",
        "                while pre[source_curr] not in  print_cycle:\n",
        "                    print_cycle.append(pre[source_curr])\n",
        "                    source_curr = pre[source_curr]\n",
        "                print_cycle.append(pre[source_curr])\n",
        "                print(\"Arbitrage Opportunity: \\n\")\n",
        "                print(\" --> \".join([currencies[p] for p in print_cycle[::-1]]))"
      ],
      "execution_count": 0,
      "outputs": []
    }
  ]
}